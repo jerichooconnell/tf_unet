{
 "cells": [
  {
   "cell_type": "code",
   "execution_count": 154,
   "metadata": {},
   "outputs": [
    {
     "name": "stderr",
     "output_type": "stream",
     "text": [
      "/home/jericho/anaconda3/lib/python3.6/site-packages/ipykernel_launcher.py:59: RuntimeWarning: divide by zero encountered in log\n"
     ]
    },
    {
     "name": "stdout",
     "output_type": "stream",
     "text": [
      "[5.142   1.682   0.8266  0.3812  0.2682  0.2244  0.2023  0.1793  0.1662\n",
      " 0.1463  0.1331  0.1153  0.1031  0.09413 0.08703 0.07642 0.06871 0.06799\n",
      " 0.06144 0.05592 0.04797 0.04741 0.03846 0.0329  0.02923 0.02664]\n",
      "2896.698036683219\n",
      "2170.916780526676\n",
      "942.2277228612468\n",
      "550.5701109841996\n",
      "[16.  16.5 17.  17.5 18.  18.5 19.  19.5 20.  20.5 21.  21.5 22.  22.5\n",
      " 23.  23.5 24.  24.5 25.  25.5 26.  26.5 27.  27.5 28.  28.5 29.  29.5\n",
      " 30.  30.5 31.  31.5 32.  32.5 33.  33.5 34.  34.5 35.  35.5 36.  36.5\n",
      " 37.  37.5 38.  38.5 39.  39.5 40.  40.5 41.  41.5 42.  42.5 43.  43.5\n",
      " 44.  44.5 45.  45.5 46.  46.5 47.  47.5 48.  48.5 49.  49.5 50.  50.5\n",
      " 51.  51.5 52.  52.5 53.  53.5 54.  54.5 55.  55.5 56.  56.5 57.  57.5\n",
      " 58.  58.5 59.  59.5 60. ]\n",
      "[  1.96340834   3.06196406   4.79595293   6.84639314   9.80016802\n",
      "  13.06512051  17.44680549  22.03312874  27.85835884  33.6368966\n",
      "  40.64927819  47.58052865  55.78101298  63.31364851  71.98137333\n",
      "  80.03437532  89.09338502  97.05189767 105.77906955 113.54452241\n",
      " 121.87662493 128.83291434 136.17317539 142.99526907 150.27702405\n",
      " 155.48764384 161.05001601 165.7187387  170.56655951 174.25182797\n",
      " 177.96215584 180.77729999 183.56175914 185.53071328 187.43379696\n",
      " 188.65802616 189.99098255 190.32043716 190.81753415 190.43775614\n",
      " 190.06851331 189.25433799 188.33941358 187.07017971 185.67585333\n",
      " 183.84958444 181.90057554 179.62344172 177.42782771 174.75301629\n",
      " 172.25402992 169.38211853 166.62926493 163.43649071 160.25650192\n",
      " 157.03508837 153.70249285 150.21279012 146.5966652  142.91671548\n",
      " 139.31716045 135.44154271 131.75463773 127.83974319 123.96780765\n",
      " 119.98970202 115.9458282  111.95442573 107.84539743 103.77094089\n",
      "  99.53232984  95.24531831  90.99169206  86.59688413  82.37335987\n",
      "  77.88962681  73.4634895   68.92954555  64.32786958  59.71491176\n",
      "  54.92348998  50.15306697  44.77479457  39.4578308   34.27640268\n",
      "  28.83062328  21.60429564  10.66483756   0.        ]\n"
     ]
    }
   ],
   "source": [
    "#from __future__ import print_function, division, absolute_import, unicode_literals\n",
    "\n",
    "import numpy as np\n",
    "import matplotlib.pyplot as plt\n",
    "import random\n",
    "import math\n",
    "import pickle\n",
    "import os\n",
    "import matlab.engine\n",
    "from scipy.interpolate import interp1d\n",
    "\n",
    "#bin_vector= [16,30.8,37.5,45,60]\n",
    "#bin_vector= [16,37.5,60]\n",
    "bin_vector = [16,60]\n",
    "#bin_vector = [58,60]\n",
    "\n",
    "# Modified these paths\n",
    "script_dir = os.path.dirname(os.getcwd()) #<-- absolute dir the script is in\n",
    "rel_path = 'tf_unet/Attenuation_with_air_0_1.pkl'\n",
    "abs_file_path = os.path.join(script_dir, rel_path)\n",
    "\n",
    "# This is the part that imports the files\n",
    "with open(abs_file_path,'rb') as f:  # Python 3: open(..., 'rb')\n",
    "    Attenuation, Attenuation2, Spec, Air = pickle.load(f)\n",
    "Ev = Spec[:,0]\n",
    "Int = Spec[:,1]\n",
    "#Int = Int*10000/sum(Int)\n",
    "\n",
    "# f4 = interp1d(Ev,Int,kind='quadratic')\n",
    "Ev_long = np.linspace(Ev[0],Ev[-1],len(Ev)*5 - 4)\n",
    "Int_long = f4(Ev_long)\n",
    "\n",
    "#inds = Ev%1 == 0\n",
    "\n",
    "Int_long = Int\n",
    "Ev_long = Ev\n",
    "\n",
    "Int_long = Int_long*10000/sum(Int_long)\n",
    "#Convert the bin vector from energies to indices\n",
    "nbins = len(bin_vector)-1\n",
    "\n",
    "for ii in range(nbins+1):\n",
    "    bin_vector[ii] = min(range(len(Ev_long)), key=lambda i: abs(Ev_long[i]-bin_vector[ii]))\n",
    "\n",
    "Int_long = Int_long*10000/sum(Int_long)\n",
    "\n",
    "\n",
    "pixel_value = 0.\n",
    "\n",
    "# hard coding a start to avoid the k edges\n",
    "f1 = interp1d(np.log(Attenuation[12:,0]),np.log(Attenuation[12:,6]))#,kind='quadratic')\n",
    "f2 = interp1d(np.log(Attenuation2[19:,0]),np.log(Attenuation2[19:,6]))#,kind='quadratic')\n",
    "f3 = interp1d(np.log(Air[:,0]),np.log(Air[:,6]))#,kind='quadratic')\n",
    "\n",
    "plt.figure()\n",
    "plt.plot(np.log(Attenuation[12:,0]),np.log(Attenuation[12:,6]))\n",
    "plt.plot(np.log(Attenuation2[19:,0]),np.log(Attenuation2[19:,6]))\n",
    "plt.plot(np.log(Ev_long/1000.),np.log(Int_long),'b*')\n",
    "\n",
    "print(Attenuation[12:,6])\n",
    "\n",
    "t_cart = 0\n",
    "nbins  = 1\n",
    "for t_water in [4,5,8,10]:\n",
    "    for jj in range(nbins): \n",
    "    # finding the attenuation for the low image\n",
    "        for ii,energy in enumerate(Ev_long[bin_vector[jj]:bin_vector[jj+1]]):\n",
    "            # Finding the attenuation in the vector\n",
    "#            mu = np.interp(energy/1000.,Attenuation[:,0],Attenuation[:,6])\n",
    "#              f2 = interp1d(energy/1000.,Attenuation2[:,0],Attenuation2[:,7])\n",
    "#              f3 = interp1d(energy/1000.,Air[:,0],Air[:,6])\n",
    "\n",
    "            mu = f1(np.log(energy/1000.))\n",
    "            mu2 = f2(np.log(energy/1000.))\n",
    "            mu_air = f3(np.log(energy/1000.))\n",
    "#             Finding the attenuation in the vector\n",
    "#                 mu = f1(np.log(energy/1000.))\n",
    "#                 mu2 = f2(np.log(energy/1000.))\n",
    "#                 mu_air = f3(np.log(energy/1000.))\n",
    "\n",
    "            mu = np.exp(mu)\n",
    "            mu2 = np.exp(mu2)\n",
    "            mu_air = np.exp(mu_air)\n",
    "#             print(mu)\n",
    "            plt.figure(1)\n",
    "            plt.plot(np.log(energy/1000.),np.log(mu),'r*')\n",
    "\n",
    "            #mu = 0.2073\n",
    "            # wrong density of water to match the image\n",
    "            pixel_value += (Int_long[ii+bin_vector[jj]]*np.exp(-mu*t_water*1.015))\n",
    "#                         *np.exp(-mu2*t_cart*1.1)*np.exp(-mu_air*0*0.00120479)\n",
    "            \n",
    "            plt.figure(2)\n",
    "            plt.plot(ii,pixel_value,'k*')\n",
    "            \n",
    "        print(pixel_value)\n",
    "        pixel_value = 0.\n",
    "\n",
    "#1056\n",
    "#3110\n",
    "#1799\n",
    "\n",
    "#3546 for 5cm 59.5-60 1\n",
    "#3524 for 5cm 58-60 1\n",
    "#3518 for 5cm 58-60 0.1\n",
    "#3522 for 5cm 58-60 0.5\n",
    "#1241 for 10cm 58-60 0.5\n",
    "#627 for 10cm 16-60 0.5\n",
    "\n",
    "print(Ev_long)\n",
    "print(Int_long)"
   ]
  },
  {
   "cell_type": "code",
   "execution_count": 66,
   "metadata": {},
   "outputs": [
    {
     "data": {
      "text/plain": [
       "array([59., 60.])"
      ]
     },
     "execution_count": 66,
     "metadata": {},
     "output_type": "execute_result"
    }
   ],
   "source": [
    "Ev_long[bin_vector]\n"
   ]
  },
  {
   "cell_type": "code",
   "execution_count": 27,
   "metadata": {},
   "outputs": [],
   "source": [
    "image2 = np.reshape(image,[image.size],order='F').copy()\n",
    "image2 = list(np.squeeze(image))\n",
    "\n",
    "image2 = matlab.double(image2)\n",
    "nbins = matlab.double([4])\n",
    "SNR = matlab.double([100])\n",
    "eng = matlab.engine.start_matlab()\n",
    "width = matlab.double([width])\n",
    "height = matlab.double([height])"
   ]
  },
  {
   "cell_type": "code",
   "execution_count": 24,
   "metadata": {},
   "outputs": [],
   "source": [
    "import io\n",
    "out = io.StringIO()\n",
    "err = io.StringIO()\n",
    "\n",
    "im_hard = eng.Analysis_DES_validation(image2,matlab.double(ML_labels))"
   ]
  },
  {
   "cell_type": "code",
   "execution_count": 25,
   "metadata": {},
   "outputs": [
    {
     "name": "stdout",
     "output_type": "stream",
     "text": [
      "\n",
      "ans =\n",
      "\n",
      "   512   512     4\n",
      "\n",
      "\n",
      "\n"
     ]
    }
   ],
   "source": [
    "print(out.getvalue())\n",
    "print(err.getvalue())"
   ]
  },
  {
   "cell_type": "code",
   "execution_count": 35,
   "metadata": {},
   "outputs": [],
   "source": [
    "import scipy.io as sio\n",
    "sio.savemat(\"images.mat\", {\"image\":image})"
   ]
  },
  {
   "cell_type": "code",
   "execution_count": 29,
   "metadata": {},
   "outputs": [
    {
     "data": {
      "text/plain": [
       "<matplotlib.image.AxesImage at 0x7fb97ccf6cf8>"
      ]
     },
     "execution_count": 29,
     "metadata": {},
     "output_type": "execute_result"
    },
    {
     "data": {
      "image/png": "[encoded data removed]",
      "text/plain": [
       "<Figure size 432x288 with 1 Axes>"
      ]
     },
     "metadata": {},
     "output_type": "display_data"
    }
   ],
   "source": [
    "plt.imshow(image[:,:,1])"
   ]
  },
  {
   "cell_type": "code",
   "execution_count": 12,
   "metadata": {},
   "outputs": [],
   "source": [
    "%matplotlib inline\n",
    "import matplotlib.pyplot as plt"
   ]
  },
  {
   "cell_type": "code",
   "execution_count": 19,
   "metadata": {},
   "outputs": [],
   "source": [
    "im_this = np.float32(im_hard)"
   ]
  },
  {
   "cell_type": "code",
   "execution_count": 52,
   "metadata": {},
   "outputs": [
    {
     "ename": "TypeError",
     "evalue": "'<' not supported between instances of 'tuple' and 'int'",
     "output_type": "error",
     "traceback": [
      "\u001b[0;31m---------------------------------------------------------------------------\u001b[0m",
      "\u001b[0;31mTypeError\u001b[0m                                 Traceback (most recent call last)",
      "\u001b[0;32m<ipython-input-52-54355772cd0b>\u001b[0m in \u001b[0;36m<module>\u001b[0;34m()\u001b[0m\n\u001b[1;32m      2\u001b[0m \u001b[0;32mfor\u001b[0m \u001b[0mjj\u001b[0m \u001b[0;32min\u001b[0m \u001b[0mrange\u001b[0m\u001b[0;34m(\u001b[0m\u001b[0mnb\u001b[0m\u001b[0;34m)\u001b[0m\u001b[0;34m:\u001b[0m\u001b[0;34m\u001b[0m\u001b[0m\n\u001b[1;32m      3\u001b[0m     \u001b[0mfig\u001b[0m\u001b[0;34m,\u001b[0m \u001b[0max\u001b[0m \u001b[0;34m=\u001b[0m \u001b[0mplt\u001b[0m\u001b[0;34m.\u001b[0m\u001b[0msubplots\u001b[0m\u001b[0;34m(\u001b[0m\u001b[0;36m1\u001b[0m\u001b[0;34m,\u001b[0m\u001b[0;36m2\u001b[0m\u001b[0;34m,\u001b[0m \u001b[0msharey\u001b[0m\u001b[0;34m=\u001b[0m\u001b[0;32mTrue\u001b[0m\u001b[0;34m,\u001b[0m \u001b[0mfigsize\u001b[0m\u001b[0;34m=\u001b[0m\u001b[0;34m(\u001b[0m\u001b[0;36m8\u001b[0m\u001b[0;34m,\u001b[0m\u001b[0;36m4\u001b[0m\u001b[0;34m)\u001b[0m\u001b[0;34m)\u001b[0m\u001b[0;34m\u001b[0m\u001b[0m\n\u001b[0;32m----> 4\u001b[0;31m     \u001b[0max\u001b[0m\u001b[0;34m[\u001b[0m\u001b[0;36m0\u001b[0m\u001b[0;34m]\u001b[0m\u001b[0;34m.\u001b[0m\u001b[0mimshow\u001b[0m\u001b[0;34m(\u001b[0m\u001b[0mimage\u001b[0m\u001b[0;34m[\u001b[0m\u001b[0;34m:\u001b[0m\u001b[0;34m,\u001b[0m\u001b[0;34m:\u001b[0m\u001b[0;34m,\u001b[0m\u001b[0mjj\u001b[0m\u001b[0;34m]\u001b[0m\u001b[0;34m,\u001b[0m \u001b[0maspect\u001b[0m\u001b[0;34m=\u001b[0m\u001b[0;34m\"auto\"\u001b[0m\u001b[0;34m)\u001b[0m\u001b[0;34m\u001b[0m\u001b[0m\n\u001b[0m\u001b[1;32m      5\u001b[0m     \u001b[0max\u001b[0m\u001b[0;34m[\u001b[0m\u001b[0;36m1\u001b[0m\u001b[0;34m]\u001b[0m\u001b[0;34m.\u001b[0m\u001b[0mimshow\u001b[0m\u001b[0;34m(\u001b[0m\u001b[0mlabels\u001b[0m\u001b[0;34m,\u001b[0m \u001b[0maspect\u001b[0m\u001b[0;34m=\u001b[0m\u001b[0;34m\"auto\"\u001b[0m\u001b[0;34m)\u001b[0m\u001b[0;34m\u001b[0m\u001b[0m\n",
      "\u001b[0;32m~/anaconda3/lib/python3.6/site-packages/matlab/_internal/mlarray_sequence.py\u001b[0m in \u001b[0;36m__getitem__\u001b[0;34m(self, index)\u001b[0m\n\u001b[1;32m     85\u001b[0m         \"\"\"\n\u001b[1;32m     86\u001b[0m         \u001b[0;32mtry\u001b[0m\u001b[0;34m:\u001b[0m\u001b[0;34m\u001b[0m\u001b[0m\n\u001b[0;32m---> 87\u001b[0;31m             \u001b[0;32mif\u001b[0m \u001b[0mindex\u001b[0m \u001b[0;34m<\u001b[0m \u001b[0;36m0\u001b[0m\u001b[0;34m:\u001b[0m\u001b[0;34m\u001b[0m\u001b[0m\n\u001b[0m\u001b[1;32m     88\u001b[0m                 \u001b[0mindex\u001b[0m \u001b[0;34m=\u001b[0m \u001b[0mself\u001b[0m\u001b[0;34m.\u001b[0m\u001b[0m_normalize_index\u001b[0m\u001b[0;34m(\u001b[0m\u001b[0mindex\u001b[0m\u001b[0;34m)\u001b[0m\u001b[0;34m\u001b[0m\u001b[0m\n\u001b[1;32m     89\u001b[0m \u001b[0;34m\u001b[0m\u001b[0m\n",
      "\u001b[0;31mTypeError\u001b[0m: '<' not supported between instances of 'tuple' and 'int'"
     ]
    }
   ],
   "source": [
    "nb = 4\n",
    "for jj in range(nb): \n",
    "    fig, ax = plt.subplots(1,2, sharey=True, figsize=(8,4))\n",
    "    ax[0].imshow(image[:,:,jj], aspect=\"auto\")\n",
    "    ax[1].imshow(labels, aspect=\"auto\")"
   ]
  },
  {
   "cell_type": "code",
   "execution_count": 5,
   "metadata": {},
   "outputs": [
    {
     "data": {
      "text/plain": [
       "60.0"
      ]
     },
     "execution_count": 5,
     "metadata": {},
     "output_type": "execute_result"
    }
   ],
   "source": [
    "Ev[107]"
   ]
  },
  {
   "cell_type": "code",
   "execution_count": 13,
   "metadata": {},
   "outputs": [],
   "source": [
    "x = sum(Int)"
   ]
  },
  {
   "cell_type": "code",
   "execution_count": 2,
   "metadata": {},
   "outputs": [],
   "source": [
    "from __future__ import print_function, division, absolute_import, unicode_literals\n",
    "\n",
    "import numpy as np\n",
    "import random\n",
    "import math\n",
    "import pickle\n",
    "import os\n",
    "\n",
    "import matlab.engine\n",
    "from scipy.interpolate import interp1d\n",
    "\n",
    "sigma = 10\n",
    "\n",
    "plateau_min = -2\n",
    "plateau_max = 2\n",
    "\n",
    "r_min = 1\n",
    "r_max = 200\n",
    "bin_vector= [16,30.8,37.5,45,60]\n",
    "\n",
    "width, height, cnt = [512,512,10]\n",
    "    "
   ]
  },
  {
   "cell_type": "code",
   "execution_count": 3,
   "metadata": {},
   "outputs": [],
   "source": [
    "num_cells = cnt\n",
    "\n",
    "# Modified these paths\n",
    "script_dir = os.path.dirname(os.getcwd()) #<-- absolute dir the script is in\n",
    "rel_path = 'tf_unet/Attenuation_with_air_0_1.pkl'\n",
    "abs_file_path = os.path.join(script_dir, rel_path)\n",
    "\n",
    "# This is the part that imports the files\n",
    "with open(abs_file_path,'rb') as f:  \n",
    "    Attenuation, Attenuation2, Spec, Air = pickle.load(f)\n",
    "Ev = Spec[:,0]\n",
    "Int = Spec[:,1]\n",
    "\n",
    "f4 = interp1d(Ev,Int)\n",
    "Ev_long = np.linspace(Ev[0],Ev[-1],len(Ev)*5 - 4)\n",
    "Int_long = f4(Ev_long)\n",
    "\n",
    "Int_long = Int_long*10000/sum(Int_long)\n",
    "#Convert the bin vector from energies to indices\n",
    "nbins = len(bin_vector)-1\n",
    "\n",
    "for ii in range(nbins+1):\n",
    "    bin_vector[ii] = min(range(len(Ev_long)), key=lambda i: abs(Ev_long[i]-bin_vector[ii]))\n",
    "    \n",
    "image = np.ones((width,height,nbins))\n",
    "labels = np.zeros([width,height],dtype=np.bool)\n",
    "imgx, imgy = width, height\n",
    "nx = [] # hold the x value\n",
    "ny = [] # holds the y value\n",
    "nr = np.zeros([nbins,cnt]) # low energy image\n",
    "nr2 = [] # high energy image\n",
    "label = [] # labels whether or not the cell has cartilage\n",
    "\n",
    "f1 = interp1d(np.log(Attenuation[12:,0]),np.log(Attenuation[12:,6]))#,kind='quadratic')\n",
    "f2 = interp1d(np.log(Attenuation2[19:,0]),np.log(Attenuation2[19:,6]))#,kind='quadratic')\n",
    "f3 = interp1d(np.log(Air[:,0]),np.log(Air[:,6]))#,kind='quadratic')\n",
    "\n",
    "\n",
    "target_SNR = 100\n",
    "# Finding the singnal in water that will be the basis for the noise\n",
    "signal = 3.1459*10**3\n",
    "# Finding the target noise\n",
    "sigma = signal / target_SNR\n",
    "# Finding the signal strength that would give the correct poisson noise\n",
    "correct_signal = (signal / sigma)**2.\n",
    "\n",
    "for i in range(num_cells):\n",
    "\n",
    "    # choosing random place for the cell\n",
    "    nx.append(random.randrange(imgx))\n",
    "    ny.append(random.randrange(imgy))\n",
    "    rr = random.random()\n",
    "    pp = random.random()\n",
    "\n",
    "    # making a random value for the cartilage\n",
    "    if i%4==0:\n",
    "        t_cart = random.uniform(0.1,4)\n",
    "        label.append(0)\n",
    "    else:\n",
    "        label.append(1)\n",
    "        t_cart = 0.\n",
    "\n",
    "    # Attenuating\n",
    "    pixel_value = 0.\n",
    "\n",
    "    for ll,t_total in enumerate([4,6,8]):\n",
    "\n",
    "        for jj in range(nbins): \n",
    "        # finding the attenuation for the low image\n",
    "            for ii,energy in enumerate(Ev_long[bin_vector[jj]:bin_vector[jj+1]]):\n",
    "                mu = f1(np.log(energy/1000.))\n",
    "                mu2 = f2(np.log(energy/1000.))\n",
    "                mu_air = f3(np.log(energy/1000.))\n",
    "                mu = np.exp(mu)\n",
    "                mu2 = np.exp(mu2)\n",
    "                mu_air = np.exp(mu_air)\n",
    "\n",
    "#                 plt.figure(1)\n",
    "#                 plt.plot(np.log(energy/1000.),np.log(mu),'r*')\n",
    "\n",
    "                #mu = 0.2073\n",
    "                # wrong density of water to match the image\n",
    "        \n",
    "                t_water = t_total - t_cart\n",
    "                pixel_value += (Int_long[ii+bin_vector[jj]]*np.exp(-mu*t_water*1.015)\n",
    "                             *np.exp(-mu2*t_cart*1.1)*np.exp(-mu_air*30*0.00120479))\n",
    "\n",
    "#                 plt.figure(2)\n",
    "#                 plt.plot(ii,pixel_value,'k*')\n",
    "\n",
    "#             print(pixel_value)\n",
    "\n",
    "            nr[jj,i] = pixel_value\n",
    "    \n",
    "for y in range(imgy):\n",
    "    for x in range(imgx):\n",
    "        dmin = math.hypot(imgx-1, imgy-1)\n",
    "        j = -1\n",
    "        for i in range(num_cells):\n",
    "            d = math.hypot(nx[i]-x, ny[i]-y)\n",
    "            if d < dmin:\n",
    "                dmin = d\n",
    "                j = i\n",
    "\n",
    "        # Generating some poisson noise\\\n",
    "        for kk in range(nbins):\n",
    "            image[x,y,kk] = nr[kk,j] + np.random.normal(0, np.sqrt(nr[kk,j]*correct_signal/signal))\n",
    "\n",
    "        labels[x,y] = label[j]"
   ]
  },
  {
   "cell_type": "code",
   "execution_count": 4,
   "metadata": {},
   "outputs": [],
   "source": [
    "matlab_reshape = np.reshape(image,[image.size],order='F').copy()\n",
    "matlab_reshape = list(np.squeeze(matlab_reshape)).copy()\n",
    "matlab_reshape = matlab.double(matlab_reshape)\n",
    "\n",
    "eng = matlab.engine.start_matlab()\n",
    "ys = eng.net_val(matlab_reshape)"
   ]
  },
  {
   "cell_type": "code",
   "execution_count": 11,
   "metadata": {},
   "outputs": [],
   "source": [
    "im_cart = np.reshape(ys,[width,height],order='F').copy()\n",
    "#return image, labels"
   ]
  },
  {
   "cell_type": "code",
   "execution_count": 13,
   "metadata": {},
   "outputs": [
    {
     "data": {
      "text/plain": [
       "<matplotlib.image.AxesImage at 0x7fa10d42bc88>"
      ]
     },
     "execution_count": 13,
     "metadata": {},
     "output_type": "execute_result"
    }
   ],
   "source": [
    "%matplotlib qt\n",
    "import matplotlib.pyplot as plt\n",
    "\n",
    "plt.imshow(im_cart[:,:])\n",
    "plt.figure()\n",
    "plt.imshow(image[:,:,1])"
   ]
  },
  {
   "cell_type": "code",
   "execution_count": 26,
   "metadata": {},
   "outputs": [
    {
     "data": {
      "text/plain": [
       "(1, 300)"
      ]
     },
     "execution_count": 26,
     "metadata": {},
     "output_type": "execute_result"
    }
   ],
   "source": []
  },
  {
   "cell_type": "code",
   "execution_count": 46,
   "metadata": {},
   "outputs": [
    {
     "data": {
      "text/plain": [
       "(1, 1048576)"
      ]
     },
     "execution_count": 46,
     "metadata": {},
     "output_type": "execute_result"
    }
   ],
   "source": [
    "np.size(matlab_reshape)"
   ]
  },
  {
   "cell_type": "code",
   "execution_count": 47,
   "metadata": {},
   "outputs": [
    {
     "data": {
      "text/plain": [
       "1048576"
      ]
     },
     "execution_count": 47,
     "metadata": {},
     "output_type": "execute_result"
    }
   ],
   "source": [
    "512*512*4"
   ]
  },
  {
   "cell_type": "code",
   "execution_count": 48,
   "metadata": {},
   "outputs": [
    {
     "data": {
      "text/plain": [
       "4.0"
      ]
     },
     "execution_count": 48,
     "metadata": {},
     "output_type": "execute_result"
    }
   ],
   "source": [
    "1048576/262144"
   ]
  },
  {
   "cell_type": "code",
   "execution_count": 52,
   "metadata": {},
   "outputs": [],
   "source": [
    "import scipy.io as sio\n",
    "sio.savemat(\"images.mat\", {\"image\":image})"
   ]
  },
  {
   "cell_type": "code",
   "execution_count": null,
   "metadata": {},
   "outputs": [],
   "source": []
  }
 ],
 "metadata": {
  "kernelspec": {
   "display_name": "Python 3",
   "language": "python",
   "name": "python3"
  },
  "language_info": {
   "codemirror_mode": {
    "name": "ipython",
    "version": 3
   },
   "file_extension": ".py",
   "mimetype": "text/x-python",
   "name": "python",
   "nbconvert_exporter": "python",
   "pygments_lexer": "ipython3",
   "version": "3.6.5"
  },
  "varInspector": {
   "cols": {
    "lenName": 16,
    "lenType": 16,
    "lenVar": 40
   },
   "kernels_config": {
    "python": {
     "delete_cmd_postfix": "",
     "delete_cmd_prefix": "del ",
     "library": "var_list.py",
     "varRefreshCmd": "print(var_dic_list())"
    },
    "r": {
     "delete_cmd_postfix": ") ",
     "delete_cmd_prefix": "rm(",
     "library": "var_list.r",
     "varRefreshCmd": "cat(var_dic_list()) "
    }
   },
   "position": {
    "height": "589px",
    "left": "1662px",
    "right": "-67px",
    "top": "136px",
    "width": "549px"
   },
   "types_to_exclude": [
    "module",
    "function",
    "builtin_function_or_method",
    "instance",
    "_Feature"
   ],
   "window_display": true
  }
 },
 "nbformat": 4,
 "nbformat_minor": 2
}
