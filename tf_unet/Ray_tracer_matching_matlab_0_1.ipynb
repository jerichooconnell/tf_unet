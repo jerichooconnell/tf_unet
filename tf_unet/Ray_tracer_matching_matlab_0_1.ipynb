{
 "cells": [
  {
   "cell_type": "code",
   "execution_count": 27,
   "metadata": {},
   "outputs": [
    {
     "data": {
      "text/plain": [
       "<matplotlib.image.AxesImage at 0x7f245c1d3f98>"
      ]
     },
     "execution_count": 27,
     "metadata": {},
     "output_type": "execute_result"
    }
   ],
   "source": [
    "from __future__ import print_function, division, absolute_import, unicode_literals\n",
    "\n",
    "import numpy as np\n",
    "import random\n",
    "import math\n",
    "import pickle\n",
    "import os\n",
    "\n",
    "import matlab.engine\n",
    "from scipy.interpolate import interp1d\n",
    "from scipy.io import loadmat\n",
    "\n",
    "\n",
    "width, height, cnt = [100, 100, 20]\n",
    "\n",
    "num_cells = cnt\n",
    "\n",
    "nbins = 4\n",
    "image = np.zeros((width, height, nbins))\n",
    "labels = np.zeros([width, height], dtype=np.bool)\n",
    "\n",
    "imgx, imgy = width, height\n",
    "nx = []  # hold the x value\n",
    "ny = []  # holds the y value\n",
    "nr = np.zeros([nbins, cnt])  # low energy image\n",
    "nr2 = []  # high energy image\n",
    "label = []  # labels whether or not the cell has cartilage\n",
    "\n",
    "target_SNR = 100\n",
    "# Finding the singnal in water that will be the basis for the noise\n",
    "signal = 3.1109 * 10**3\n",
    "# Finding the target noise\n",
    "sigma = signal / target_SNR\n",
    "# Finding the signal strength that would give the correct poisson noise\n",
    "correct_signal = (signal / sigma)**2.\n",
    "\n",
    "D = loadmat(\"/home/jericho/Downloads/bin/pcd_planar_imaging/DES_radiography/DES_3.0/Y_ML_val.mat\")\n",
    "\n",
    "cal_values = D[\"Y_ML_val\"][:,1:]\n",
    "\n",
    "for i in range(num_cells/2):\n",
    "\n",
    "    # choosing random place for the cell\n",
    "    nx.append(random.randrange(imgx))\n",
    "    ny.append(random.randrange(imgy))\n",
    "    rr = random.randint(0, len(cal_values) - 1)\n",
    "    pp = random.randint(0, len(cal_values[cal_values == 0.]) - 1)\n",
    "    \n",
    "    inds_0 = np.where(cal_values[0,:] == 0)[0]\n",
    "    # making a random value for the cartilage\n",
    "#     if i % 2 == 0:\n",
    "#         nr[:, i] = cal_values[1:5, rr]\n",
    "#         label.append(1)\n",
    "#     else:\n",
    "        nr[:, i] = cal_values[1:5, inds_0[pp]]\n",
    "        label.append(0)\n",
    "\n",
    "for y in range(imgy):\n",
    "    for x in range(imgx):\n",
    "        dmin = math.hypot(imgx - 1, imgy - 1)\n",
    "        j = -1\n",
    "        for i in range(num_cells):\n",
    "            d = math.hypot(nx[i] - x, ny[i] - y)\n",
    "            if d < dmin:\n",
    "                dmin = d\n",
    "                j = i\n",
    "\n",
    "        # Generating some poisson noise\\\n",
    "        for kk in range(nbins):\n",
    "            image[x, y,\n",
    "                   kk] = np.log((np.exp(nr[kk,j])) + np.random.normal(0,np.sqrt(np.exp(nr[kk,j])*2500))/2500)\n",
    "\n",
    "\n",
    "        labels[x, y] = label[j]\n",
    "        \n",
    "\n",
    "r_min = 1\n",
    "r_max = 10\n",
    "border = 10\n",
    "sigma = 10\n",
    "\n",
    "#image = np.ones((nx, ny, 1))\n",
    "label = np.ones((width, height))\n",
    "mask = np.zeros([width, height], dtype=np.bool)\n",
    "for _ in range(cnt):\n",
    "    a = np.random.randint(border, width-border)\n",
    "    b = np.random.randint(border, height-border)\n",
    "    r = np.random.randint(r_min, r_max)\n",
    "    h = np.random.randint(1,2)\n",
    "\n",
    "    y,x = np.ogrid[-a:width-a, -b:height-b]\n",
    "    m = x*x + y*y <= r*r\n",
    "    mask = np.logical_or(mask, m)\n",
    "\n",
    "    image[m] = h\n",
    "labels[mask] = 0\n",
    "\n",
    "#image += np.random.normal(scale=sigma, size=image.shape)\n",
    "image -= np.amin(image)\n",
    "image /= np.amax(image)\n",
    "\n",
    "        \n",
    "plt.imshow(image[:,:,1])\n",
    "plt.figure()\n",
    "plt.imshow(labels)"
   ]
  },
  {
   "cell_type": "code",
   "execution_count": 2,
   "metadata": {},
   "outputs": [],
   "source": [
    "matlab_reshape = np.reshape(image,[image.size],order='F').copy()\n",
    "matlab_reshape = list(np.squeeze(matlab_reshape)).copy()\n",
    "matlab_reshape = matlab.double(matlab_reshape)\n",
    "\n",
    "eng = matlab.engine.start_matlab()\n",
    "ys = eng.net_val(matlab_reshape)\n",
    "\n",
    "im_cart = np.reshape(ys,[width,height],order='F').copy()"
   ]
  },
  {
   "cell_type": "code",
   "execution_count": 14,
   "metadata": {},
   "outputs": [
    {
     "data": {
      "text/plain": [
       "<matplotlib.image.AxesImage at 0x7f245ceaf438>"
      ]
     },
     "execution_count": 14,
     "metadata": {},
     "output_type": "execute_result"
    }
   ],
   "source": [
    "%matplotlib qt\n",
    "import matplotlib.pyplot as plt\n",
    "\n",
    "# plt.imshow(im_cart[:,:])\n",
    "# plt.figure()\n",
    "plt.imshow(image[:,:,1])\n",
    "plt.figure()\n",
    "plt.imshow(labels)"
   ]
  },
  {
   "cell_type": "code",
   "execution_count": 26,
   "metadata": {},
   "outputs": [
    {
     "data": {
      "text/plain": [
       "(1, 300)"
      ]
     },
     "execution_count": 26,
     "metadata": {},
     "output_type": "execute_result"
    }
   ],
   "source": []
  },
  {
   "cell_type": "code",
   "execution_count": 46,
   "metadata": {},
   "outputs": [
    {
     "data": {
      "text/plain": [
       "(1, 1048576)"
      ]
     },
     "execution_count": 46,
     "metadata": {},
     "output_type": "execute_result"
    }
   ],
   "source": [
    "np.size(matlab_reshape)"
   ]
  },
  {
   "cell_type": "code",
   "execution_count": 47,
   "metadata": {},
   "outputs": [
    {
     "data": {
      "text/plain": [
       "1048576"
      ]
     },
     "execution_count": 47,
     "metadata": {},
     "output_type": "execute_result"
    }
   ],
   "source": [
    "512*512*4"
   ]
  },
  {
   "cell_type": "code",
   "execution_count": 48,
   "metadata": {},
   "outputs": [
    {
     "data": {
      "text/plain": [
       "4.0"
      ]
     },
     "execution_count": 48,
     "metadata": {},
     "output_type": "execute_result"
    }
   ],
   "source": [
    "1048576/262144"
   ]
  },
  {
   "cell_type": "code",
   "execution_count": 52,
   "metadata": {},
   "outputs": [],
   "source": [
    "import scipy.io as sio\n",
    "sio.savemat(\"images.mat\", {\"image\":image})"
   ]
  },
  {
   "cell_type": "code",
   "execution_count": 5,
   "metadata": {},
   "outputs": [
    {
     "ename": "TypeError",
     "evalue": "'list' object cannot be interpreted as an integer",
     "output_type": "error",
     "traceback": [
      "\u001b[0;31m---------------------------------------------------------------------------\u001b[0m",
      "\u001b[0;31mTypeError\u001b[0m                                 Traceback (most recent call last)",
      "\u001b[0;32m<ipython-input-5-54c9b0cb8202>\u001b[0m in \u001b[0;36m<module>\u001b[0;34m()\u001b[0m\n\u001b[0;32m----> 1\u001b[0;31m \u001b[0mim_cart\u001b[0m \u001b[0;34m=\u001b[0m \u001b[0mnp\u001b[0m\u001b[0;34m.\u001b[0m\u001b[0mzeros\u001b[0m\u001b[0;34m(\u001b[0m\u001b[0;34m[\u001b[0m\u001b[0mnx\u001b[0m\u001b[0;34m,\u001b[0m\u001b[0mny\u001b[0m\u001b[0;34m,\u001b[0m\u001b[0;36m1\u001b[0m\u001b[0;34m]\u001b[0m\u001b[0;34m)\u001b[0m\u001b[0;34m\u001b[0m\u001b[0m\n\u001b[0m",
      "\u001b[0;31mTypeError\u001b[0m: 'list' object cannot be interpreted as an integer"
     ]
    }
   ],
   "source": [
    "im_cart = np.zeros([nx,ny,1])"
   ]
  },
  {
   "cell_type": "code",
   "execution_count": 28,
   "metadata": {},
   "outputs": [
    {
     "name": "stdout",
     "output_type": "stream",
     "text": [
      "[71, 59, 71, 52, 12, 24, 71, 44, 72, 69, 85, 78, 89, 18, 19, 67, 95, 0, 96, 76]\n"
     ]
    }
   ],
   "source": [
    "print(nx)"
   ]
  },
  {
   "cell_type": "code",
   "execution_count": null,
   "metadata": {},
   "outputs": [],
   "source": []
  }
 ],
 "metadata": {
  "kernelspec": {
   "display_name": "Python 3",
   "language": "python",
   "name": "python3"
  },
  "varInspector": {
   "cols": {
    "lenName": 16,
    "lenType": 16,
    "lenVar": 40
   },
   "kernels_config": {
    "python": {
     "delete_cmd_postfix": "",
     "delete_cmd_prefix": "del ",
     "library": "var_list.py",
     "varRefreshCmd": "print(var_dic_list())"
    },
    "r": {
     "delete_cmd_postfix": ") ",
     "delete_cmd_prefix": "rm(",
     "library": "var_list.r",
     "varRefreshCmd": "cat(var_dic_list()) "
    }
   },
   "position": {
    "height": "700px",
    "left": "1219px",
    "right": "280px",
    "top": "230px",
    "width": "645px"
   },
   "types_to_exclude": [
    "module",
    "function",
    "builtin_function_or_method",
    "instance",
    "_Feature"
   ],
   "window_display": true
  }
 },
 "nbformat": 4,
 "nbformat_minor": 2
}
