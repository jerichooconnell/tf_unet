{
 "cells": [
  {
   "cell_type": "code",
   "execution_count": 66,
   "metadata": {},
   "outputs": [
    {
     "ename": "TypeError",
     "evalue": "only integer scalar arrays can be converted to a scalar index",
     "output_type": "error",
     "traceback": [
      "\u001b[0;31m---------------------------------------------------------------------------\u001b[0m",
      "\u001b[0;31mTypeError\u001b[0m                                 Traceback (most recent call last)",
      "\u001b[0;32m<ipython-input-66-fc27fd31ba5c>\u001b[0m in \u001b[0;36m<module>\u001b[0;34m()\u001b[0m\n\u001b[1;32m     96\u001b[0m \u001b[0;34m\u001b[0m\u001b[0m\n\u001b[1;32m     97\u001b[0m     image[m] = np.log((np.exp(nr2[:,i])) + np.max(np.zeros(\n\u001b[0;32m---> 98\u001b[0;31m         image.shape)[m],np.random.normal(0,np.sqrt(np.exp(nr2[:,i])*2500),size=image.shape)[m]/2500))\n\u001b[0m\u001b[1;32m     99\u001b[0m \u001b[0;34m\u001b[0m\u001b[0m\n\u001b[1;32m    100\u001b[0m \u001b[0mlabels\u001b[0m\u001b[0;34m[\u001b[0m\u001b[0mmask\u001b[0m\u001b[0;34m]\u001b[0m \u001b[0;34m=\u001b[0m \u001b[0;36m1\u001b[0m\u001b[0;34m\u001b[0m\u001b[0m\n",
      "\u001b[0;32m~/anaconda3/lib/python3.6/site-packages/numpy/core/fromnumeric.py\u001b[0m in \u001b[0;36mamax\u001b[0;34m(a, axis, out, keepdims)\u001b[0m\n\u001b[1;32m   2318\u001b[0m \u001b[0;34m\u001b[0m\u001b[0m\n\u001b[1;32m   2319\u001b[0m     return _methods._amax(a, axis=axis,\n\u001b[0;32m-> 2320\u001b[0;31m                           out=out, **kwargs)\n\u001b[0m\u001b[1;32m   2321\u001b[0m \u001b[0;34m\u001b[0m\u001b[0m\n\u001b[1;32m   2322\u001b[0m \u001b[0;34m\u001b[0m\u001b[0m\n",
      "\u001b[0;32m~/anaconda3/lib/python3.6/site-packages/numpy/core/_methods.py\u001b[0m in \u001b[0;36m_amax\u001b[0;34m(a, axis, out, keepdims)\u001b[0m\n\u001b[1;32m     24\u001b[0m \u001b[0;31m# small reductions\u001b[0m\u001b[0;34m\u001b[0m\u001b[0;34m\u001b[0m\u001b[0m\n\u001b[1;32m     25\u001b[0m \u001b[0;32mdef\u001b[0m \u001b[0m_amax\u001b[0m\u001b[0;34m(\u001b[0m\u001b[0ma\u001b[0m\u001b[0;34m,\u001b[0m \u001b[0maxis\u001b[0m\u001b[0;34m=\u001b[0m\u001b[0;32mNone\u001b[0m\u001b[0;34m,\u001b[0m \u001b[0mout\u001b[0m\u001b[0;34m=\u001b[0m\u001b[0;32mNone\u001b[0m\u001b[0;34m,\u001b[0m \u001b[0mkeepdims\u001b[0m\u001b[0;34m=\u001b[0m\u001b[0;32mFalse\u001b[0m\u001b[0;34m)\u001b[0m\u001b[0;34m:\u001b[0m\u001b[0;34m\u001b[0m\u001b[0m\n\u001b[0;32m---> 26\u001b[0;31m     \u001b[0;32mreturn\u001b[0m \u001b[0mumr_maximum\u001b[0m\u001b[0;34m(\u001b[0m\u001b[0ma\u001b[0m\u001b[0;34m,\u001b[0m \u001b[0maxis\u001b[0m\u001b[0;34m,\u001b[0m \u001b[0;32mNone\u001b[0m\u001b[0;34m,\u001b[0m \u001b[0mout\u001b[0m\u001b[0;34m,\u001b[0m \u001b[0mkeepdims\u001b[0m\u001b[0;34m)\u001b[0m\u001b[0;34m\u001b[0m\u001b[0m\n\u001b[0m\u001b[1;32m     27\u001b[0m \u001b[0;34m\u001b[0m\u001b[0m\n\u001b[1;32m     28\u001b[0m \u001b[0;32mdef\u001b[0m \u001b[0m_amin\u001b[0m\u001b[0;34m(\u001b[0m\u001b[0ma\u001b[0m\u001b[0;34m,\u001b[0m \u001b[0maxis\u001b[0m\u001b[0;34m=\u001b[0m\u001b[0;32mNone\u001b[0m\u001b[0;34m,\u001b[0m \u001b[0mout\u001b[0m\u001b[0;34m=\u001b[0m\u001b[0;32mNone\u001b[0m\u001b[0;34m,\u001b[0m \u001b[0mkeepdims\u001b[0m\u001b[0;34m=\u001b[0m\u001b[0;32mFalse\u001b[0m\u001b[0;34m)\u001b[0m\u001b[0;34m:\u001b[0m\u001b[0;34m\u001b[0m\u001b[0m\n",
      "\u001b[0;31mTypeError\u001b[0m: only integer scalar arrays can be converted to a scalar index"
     ]
    }
   ],
   "source": [
    "from __future__ import print_function, division, absolute_import, unicode_literals\n",
    "%matplotlib inline\n",
    "import numpy as np\n",
    "import random\n",
    "import math\n",
    "import pickle\n",
    "import os\n",
    "\n",
    "import matlab.engine\n",
    "from scipy.interpolate import interp1d\n",
    "from scipy.io import loadmat\n",
    "\n",
    "\n",
    "width, height, cnt = [100, 100, 20]\n",
    "\n",
    "num_cells = cnt\n",
    "\n",
    "nbins = 4\n",
    "image = np.zeros((width, height, nbins))\n",
    "labels = np.zeros([width, height], dtype=np.bool)\n",
    "\n",
    "imgx, imgy = width, height\n",
    "nx = []  # hold the x value\n",
    "ny = []  # holds the y value\n",
    "nr = np.zeros([nbins, int(cnt/2)])  # low energy image\n",
    "nr2 = np.zeros([nbins, int(cnt/2)])  # high energy image\n",
    "label = []  # labels whether or not the cell has cartilage\n",
    "\n",
    "target_SNR = 100\n",
    "# Finding the singnal in water that will be the basis for the noise\n",
    "signal = 3.1109 * 10**3\n",
    "# Finding the target noise\n",
    "sigma = signal / target_SNR\n",
    "# Finding the signal strength that would give the correct poisson noise\n",
    "correct_signal = (signal / sigma)**2.\n",
    "\n",
    "D = loadmat(\"/home/jericho/Downloads/bin/pcd_planar_imaging/DES_radiography/DES_3.0/Y_ML_val.mat\")\n",
    "\n",
    "cal_values = D[\"Y_ML_val\"][:,1:]\n",
    "\n",
    "inds_0 = np.where(cal_values[0,:] == 0)[0]\n",
    "inds_1 = np.where(cal_values[0,:] != 0)[0]\n",
    "\n",
    "for i in range(int(num_cells/2)):\n",
    "\n",
    "    # choosing random place for the cell\n",
    "    nx.append(random.randrange(imgx))\n",
    "    ny.append(random.randrange(imgy))\n",
    "    pp = random.randint(0, len(cal_values[cal_values == 0.]) - 1)\n",
    "    \n",
    "    # making a random value for the cartilage\n",
    "#     if i % 2 == 0:\n",
    "#         nr[:, i] = cal_values[1:5, rr]\n",
    "#         label.append(1)\n",
    "#     else:\n",
    "    nr[:, i] = cal_values[1:5, inds_0[pp]]\n",
    "    label.append(0)\n",
    "\n",
    "for y in range(imgy):\n",
    "    for x in range(imgx):\n",
    "        dmin = math.hypot(imgx - 1, imgy - 1)\n",
    "        j = -1\n",
    "        for i in range(int(num_cells/2)):\n",
    "            d = math.hypot(nx[i] - x, ny[i] - y)\n",
    "            if d < dmin:\n",
    "                dmin = d\n",
    "                j = i\n",
    "\n",
    "        # Generating some poisson noise\\\n",
    "        #for kk in range(nbins):\n",
    "        image[x, y,\n",
    "               :] = np.log((np.exp(nr[:,j])) + np.random.normal(0,np.sqrt(np.exp(nr[:,j])*2500))/2500)\n",
    "\n",
    "\n",
    "labels[x, y] = label[j]\n",
    "        \n",
    "\n",
    "r_min = 3\n",
    "r_max = 10\n",
    "border = 10\n",
    "sigma = 10\n",
    "\n",
    "#image = np.ones((nx, ny, 1))\n",
    "label = np.ones((width, height))\n",
    "mask = np.zeros([width, height], dtype=np.bool)\n",
    "for i in range(int(num_cells/2)):\n",
    "    a = np.random.randint(border, width-border)\n",
    "    b = np.random.randint(border, height-border)\n",
    "    r = np.random.randint(r_min, r_max)\n",
    "    rr = random.randint(0, len(inds_1) - 1)    \n",
    "    nr2[:, i] = cal_values[1:5, inds_1[rr]]\n",
    "\n",
    "    y,x = np.ogrid[-a:width-a, -b:height-b]\n",
    "    m = x*x + y*y <= r*r\n",
    "    mask = np.logical_or(mask, m)\n",
    "\n",
    "    image[m] = np.log((np.exp(nr2[:,i])) + np.max(np.zeros(\n",
    "        image.shape)[m],np.random.normal(0,np.sqrt(np.exp(nr2[:,i])*2500),size=image.shape)[m]/2500))\n",
    " \n",
    "labels[mask] = 1\n",
    "\n",
    "#image += np.random.normal(scale=sigma, size=image.shape)\n",
    "image -= np.amin(image)\n",
    "image /= np.amax(image)\n",
    "\n",
    "        \n",
    "plt.imshow(image[:,:,2])\n",
    "plt.figure()\n",
    "plt.imshow(labels)"
   ]
  },
  {
   "cell_type": "code",
   "execution_count": 2,
   "metadata": {},
   "outputs": [],
   "source": [
    "matlab_reshape = np.reshape(image,[image.size],order='F').copy()\n",
    "matlab_reshape = list(np.squeeze(matlab_reshape)).copy()\n",
    "matlab_reshape = matlab.double(matlab_reshape)\n",
    "\n",
    "eng = matlab.engine.start_matlab()\n",
    "ys = eng.net_val(matlab_reshape)\n",
    "\n",
    "im_cart = np.reshape(ys,[width,height],order='F').copy()"
   ]
  },
  {
   "cell_type": "code",
   "execution_count": 14,
   "metadata": {},
   "outputs": [
    {
     "data": {
      "text/plain": [
       "<matplotlib.image.AxesImage at 0x7f245ceaf438>"
      ]
     },
     "execution_count": 14,
     "metadata": {},
     "output_type": "execute_result"
    }
   ],
   "source": [
    "%matplotlib qt\n",
    "import matplotlib.pyplot as plt\n",
    "\n",
    "# plt.imshow(im_cart[:,:])\n",
    "# plt.figure()\n",
    "plt.imshow(image[:,:,1])\n",
    "plt.figure()\n",
    "plt.imshow(labels)"
   ]
  },
  {
   "cell_type": "code",
   "execution_count": 64,
   "metadata": {},
   "outputs": [
    {
     "ename": "IndexError",
     "evalue": "too many indices for array",
     "output_type": "error",
     "traceback": [
      "\u001b[0;31m---------------------------------------------------------------------------\u001b[0m",
      "\u001b[0;31mIndexError\u001b[0m                                Traceback (most recent call last)",
      "\u001b[0;32m<ipython-input-64-a991b88db3e9>\u001b[0m in \u001b[0;36m<module>\u001b[0;34m()\u001b[0m\n\u001b[1;32m      1\u001b[0m np.zeros(\n\u001b[0;32m----> 2\u001b[0;31m         image.size)[m]\n\u001b[0m",
      "\u001b[0;31mIndexError\u001b[0m: too many indices for array"
     ]
    }
   ],
   "source": [
    "np.zeros(image.size)[m]"
   ]
  },
  {
   "cell_type": "code",
   "execution_count": 67,
   "metadata": {},
   "outputs": [
    {
     "data": {
      "text/plain": [
       "(100, 100, 4)"
      ]
     },
     "execution_count": 67,
     "metadata": {},
     "output_type": "execute_result"
    }
   ],
   "source": [
    "image.shape"
   ]
  },
  {
   "cell_type": "code",
   "execution_count": 47,
   "metadata": {},
   "outputs": [
    {
     "data": {
      "text/plain": [
       "1048576"
      ]
     },
     "execution_count": 47,
     "metadata": {},
     "output_type": "execute_result"
    }
   ],
   "source": [
    "512*512*4"
   ]
  },
  {
   "cell_type": "code",
   "execution_count": 48,
   "metadata": {},
   "outputs": [
    {
     "data": {
      "text/plain": [
       "4.0"
      ]
     },
     "execution_count": 48,
     "metadata": {},
     "output_type": "execute_result"
    }
   ],
   "source": [
    "1048576/262144"
   ]
  },
  {
   "cell_type": "code",
   "execution_count": 52,
   "metadata": {},
   "outputs": [],
   "source": [
    "import scipy.io as sio\n",
    "sio.savemat(\"images.mat\", {\"image\":image})"
   ]
  },
  {
   "cell_type": "code",
   "execution_count": 5,
   "metadata": {},
   "outputs": [
    {
     "ename": "TypeError",
     "evalue": "'list' object cannot be interpreted as an integer",
     "output_type": "error",
     "traceback": [
      "\u001b[0;31m---------------------------------------------------------------------------\u001b[0m",
      "\u001b[0;31mTypeError\u001b[0m                                 Traceback (most recent call last)",
      "\u001b[0;32m<ipython-input-5-54c9b0cb8202>\u001b[0m in \u001b[0;36m<module>\u001b[0;34m()\u001b[0m\n\u001b[0;32m----> 1\u001b[0;31m \u001b[0mim_cart\u001b[0m \u001b[0;34m=\u001b[0m \u001b[0mnp\u001b[0m\u001b[0;34m.\u001b[0m\u001b[0mzeros\u001b[0m\u001b[0;34m(\u001b[0m\u001b[0;34m[\u001b[0m\u001b[0mnx\u001b[0m\u001b[0;34m,\u001b[0m\u001b[0mny\u001b[0m\u001b[0;34m,\u001b[0m\u001b[0;36m1\u001b[0m\u001b[0;34m]\u001b[0m\u001b[0;34m)\u001b[0m\u001b[0;34m\u001b[0m\u001b[0m\n\u001b[0m",
      "\u001b[0;31mTypeError\u001b[0m: 'list' object cannot be interpreted as an integer"
     ]
    }
   ],
   "source": [
    "im_cart = np.zeros([nx,ny,1])"
   ]
  },
  {
   "cell_type": "code",
   "execution_count": 48,
   "metadata": {},
   "outputs": [
    {
     "name": "stdout",
     "output_type": "stream",
     "text": [
      "[25 26 27 28 29 30 57 58 59 60 61 87 88 89]\n"
     ]
    }
   ],
   "source": [
    "print(inds_0)"
   ]
  },
  {
   "cell_type": "code",
   "execution_count": null,
   "metadata": {},
   "outputs": [],
   "source": []
  }
 ],
 "metadata": {
  "kernelspec": {
   "display_name": "Python 3",
   "language": "python",
   "name": "python3"
  },
  "varInspector": {
   "cols": {
    "lenName": 16,
    "lenType": 16,
    "lenVar": 40
   },
   "kernels_config": {
    "python": {
     "delete_cmd_postfix": "",
     "delete_cmd_prefix": "del ",
     "library": "var_list.py",
     "varRefreshCmd": "print(var_dic_list())"
    },
    "r": {
     "delete_cmd_postfix": ") ",
     "delete_cmd_prefix": "rm(",
     "library": "var_list.r",
     "varRefreshCmd": "cat(var_dic_list()) "
    }
   },
   "position": {
    "height": "700px",
    "left": "1735px",
    "right": "-236px",
    "top": "64px",
    "width": "645px"
   },
   "types_to_exclude": [
    "module",
    "function",
    "builtin_function_or_method",
    "instance",
    "_Feature"
   ],
   "window_display": true
  }
 },
 "nbformat": 4,
 "nbformat_minor": 2
}
