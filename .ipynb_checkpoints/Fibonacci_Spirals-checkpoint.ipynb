{
 "cells": [
  {
   "cell_type": "code",
   "execution_count": 4,
   "metadata": {},
   "outputs": [
    {
     "name": "stdout",
     "output_type": "stream",
     "text": [
      "Using matplotlib backend: Qt5Agg\n",
      "Populating the interactive namespace from numpy and matplotlib\n"
     ]
    }
   ],
   "source": [
    "%pylab"
   ]
  },
  {
   "cell_type": "code",
   "execution_count": 94,
   "metadata": {},
   "outputs": [],
   "source": [
    "rands_x = 100*random_sample(1)\n",
    "rands_y = 100*random_sample(1)"
   ]
  },
  {
   "cell_type": "code",
   "execution_count": 95,
   "metadata": {},
   "outputs": [],
   "source": [
    "rand_paths_x = zeros([10])\n",
    "rand_paths_y = zeros([10])\n",
    "\n",
    "rand_paths_x[0] = rands_x\n",
    "rand_paths_y[0] = rands_y"
   ]
  },
  {
   "cell_type": "code",
   "execution_count": 96,
   "metadata": {},
   "outputs": [
    {
     "ename": "IndexError",
     "evalue": "too many indices for array",
     "output_type": "error",
     "traceback": [
      "\u001b[0;31m---------------------------------------------------------------------------\u001b[0m",
      "\u001b[0;31mIndexError\u001b[0m                                Traceback (most recent call last)",
      "\u001b[0;32m<ipython-input-96-de87ccb3a5ef>\u001b[0m in \u001b[0;36m<module>\u001b[0;34m()\u001b[0m\n\u001b[1;32m     16\u001b[0m \u001b[0;34m\u001b[0m\u001b[0m\n\u001b[1;32m     17\u001b[0m     \u001b[0mcoef_ind\u001b[0m \u001b[0;34m=\u001b[0m \u001b[0;34m(\u001b[0m\u001b[0mpoint\u001b[0m\u001b[0;34m)\u001b[0m\u001b[0;34m%\u001b[0m\u001b[0;36m4\u001b[0m\u001b[0;34m\u001b[0m\u001b[0m\n\u001b[0;32m---> 18\u001b[0;31m     \u001b[0mrand_paths_x\u001b[0m\u001b[0;34m[\u001b[0m\u001b[0mpoint\u001b[0m\u001b[0;34m,\u001b[0m\u001b[0mpp\u001b[0m\u001b[0;34m]\u001b[0m \u001b[0;34m=\u001b[0m \u001b[0mrand_paths_x\u001b[0m\u001b[0;34m[\u001b[0m\u001b[0mpoint\u001b[0m\u001b[0;34m,\u001b[0m\u001b[0mpp\u001b[0m\u001b[0;34m]\u001b[0m \u001b[0;34m+\u001b[0m \u001b[0mfibs\u001b[0m\u001b[0;34m[\u001b[0m\u001b[0mpoint\u001b[0m\u001b[0;34m-\u001b[0m\u001b[0;36m1\u001b[0m\u001b[0;34m]\u001b[0m\u001b[0;34m*\u001b[0m\u001b[0mcoefs\u001b[0m\u001b[0;34m[\u001b[0m\u001b[0;36m0\u001b[0m\u001b[0;34m,\u001b[0m\u001b[0mcoef_ind\u001b[0m\u001b[0;34m]\u001b[0m\u001b[0;34m\u001b[0m\u001b[0m\n\u001b[0m\u001b[1;32m     19\u001b[0m     \u001b[0mrand_paths_x\u001b[0m\u001b[0;34m[\u001b[0m\u001b[0mpoint\u001b[0m\u001b[0;34m,\u001b[0m\u001b[0mpp\u001b[0m\u001b[0;34m]\u001b[0m \u001b[0;34m=\u001b[0m \u001b[0mrand_paths_y\u001b[0m\u001b[0;34m[\u001b[0m\u001b[0mpoint\u001b[0m\u001b[0;34m,\u001b[0m\u001b[0mpp\u001b[0m\u001b[0;34m]\u001b[0m \u001b[0;34m+\u001b[0m \u001b[0mfibs\u001b[0m\u001b[0;34m[\u001b[0m\u001b[0mpoint\u001b[0m\u001b[0;34m-\u001b[0m\u001b[0;36m1\u001b[0m\u001b[0;34m]\u001b[0m\u001b[0;34m*\u001b[0m\u001b[0mcoefs\u001b[0m\u001b[0;34m[\u001b[0m\u001b[0;36m1\u001b[0m\u001b[0;34m,\u001b[0m\u001b[0mcoef_ind\u001b[0m\u001b[0;34m]\u001b[0m\u001b[0;34m\u001b[0m\u001b[0m\n",
      "\u001b[0;31mIndexError\u001b[0m: too many indices for array"
     ]
    }
   ],
   "source": [
    "fib_0 = 0.01\n",
    "fibs = []\n",
    "fibs.append(fib_0)\n",
    "fibs.append(fib_0)\n",
    "\n",
    "coefs = [[1,-1,-1,1],[ 1,1,-1,-1]]\n",
    "coefs = array(coefs)\n",
    "\n",
    "#for pp in range(1,10):\n",
    "fib_0 = 0.01\n",
    "fibs = []\n",
    "fibs.append(fib_0)\n",
    "fibs.append(fib_0)\n",
    "for point in range(1,10):\n",
    "    fibs.append(fibs[-1]+fibs[-2])\n",
    "\n",
    "    coef_ind = (point)%4\n",
    "    rand_paths_x[point] = rand_paths_x[point] + fibs[point-1]*coefs[0,coef_ind]\n",
    "    rand_paths_x[point] = rand_paths_y[point] + fibs[point-1]*coefs[1,coef_ind]"
   ]
  },
  {
   "cell_type": "code",
   "execution_count": 93,
   "metadata": {},
   "outputs": [
    {
     "data": {
      "text/plain": [
       "[<matplotlib.lines.Line2D at 0x7fa170190390>]"
      ]
     },
     "execution_count": 93,
     "metadata": {},
     "output_type": "execute_result"
    }
   ],
   "source": [
    "figure\n",
    "plot(rand_paths_x[:,1],rand_paths_y[:,1])"
   ]
  },
  {
   "cell_type": "code",
   "execution_count": 82,
   "metadata": {},
   "outputs": [
    {
     "data": {
      "text/plain": [
       "1"
      ]
     },
     "execution_count": 82,
     "metadata": {},
     "output_type": "execute_result"
    }
   ],
   "source": [
    "coefs[0,3]"
   ]
  },
  {
   "cell_type": "code",
   "execution_count": 83,
   "metadata": {},
   "outputs": [
    {
     "data": {
      "text/plain": [
       "array([ 9.63193046e+01,  4.56066008e+01, -1.00000000e-02, -2.00000000e-02,\n",
       "        3.00000000e-02,  5.00000000e-02, -8.00000000e-02, -1.30000000e-01,\n",
       "        2.10000000e-01,  3.40000000e-01])"
      ]
     },
     "execution_count": 83,
     "metadata": {},
     "output_type": "execute_result"
    }
   ],
   "source": [
    "rand_paths_x[:,1]"
   ]
  },
  {
   "cell_type": "code",
   "execution_count": 55,
   "metadata": {},
   "outputs": [
    {
     "data": {
      "text/plain": [
       "array([67.22938242, 14.00714537, 56.83276253, 46.3493687 , 64.87702975,\n",
       "       44.76660372, 58.58320654,  5.20788298, 82.73559905, 80.56735123,\n",
       "       67.21599482,  0.66854857,  2.38436406,  3.79184449, 67.07794967,\n",
       "       97.70812198, 65.06854172, 52.92929305, 98.38022843, 98.47317417,\n",
       "       15.67356673, 32.66717732, 63.76116772, 66.83664167, 54.34258232,\n",
       "       55.37050984, 66.88512356, 23.81246907, 52.98399104, 76.4443354 ,\n",
       "        2.40440292, 83.57588777,  1.86185412, 54.09375303, 88.47198289,\n",
       "       84.52904797, 10.63307861, 59.73988478, 18.7757072 , 11.15527305,\n",
       "       10.82635846, 99.80152656,  8.39360395, 61.90598866, 78.7082407 ,\n",
       "       41.89710006, 41.74077758, 43.35135088, 57.328343  , 42.44935577,\n",
       "       99.89355117, 20.32013699, 52.25676692, 99.7549366 , 72.25265495,\n",
       "       24.46395769, 26.95531045, 66.89271453, 67.6865208 , 52.5584606 ,\n",
       "       74.87619536, 55.31556686, 91.7273514 , 34.67571554, 14.07375031,\n",
       "       97.80580924, 42.8675715 ,  0.65306637, 84.42367851, 79.83912072,\n",
       "       89.96461911, 49.84717207, 57.74560402, 24.33160321, 37.71456389,\n",
       "       62.6506652 , 82.08231571,  6.1805747 , 88.82318198, 16.53348795,\n",
       "       10.90770975, 24.37810663, 32.26681535, 24.58587975, 27.96315001,\n",
       "       94.91453241, 34.62169395, 40.65273244, 32.16967625, 47.88892121,\n",
       "       12.74528976, 66.83827221, 78.55634062, 95.01615094,  9.94551019,\n",
       "        7.84174372, 66.05006012, 26.53882214, 10.9056376 , 49.39743187])"
      ]
     },
     "execution_count": 55,
     "metadata": {},
     "output_type": "execute_result"
    }
   ],
   "source": [
    "rands_x"
   ]
  },
  {
   "cell_type": "code",
   "execution_count": 87,
   "metadata": {},
   "outputs": [
    {
     "data": {
      "text/plain": [
       "[0.01,\n",
       " 0.01,\n",
       " 0.02,\n",
       " 0.03,\n",
       " 0.05,\n",
       " 0.08,\n",
       " 0.13,\n",
       " 0.21000000000000002,\n",
       " 0.34,\n",
       " 0.55,\n",
       " 0.8900000000000001]"
      ]
     },
     "execution_count": 87,
     "metadata": {},
     "output_type": "execute_result"
    }
   ],
   "source": [
    "fibs"
   ]
  },
  {
   "cell_type": "code",
   "execution_count": null,
   "metadata": {},
   "outputs": [],
   "source": []
  }
 ],
 "metadata": {
  "kernelspec": {
   "display_name": "Python 3",
   "language": "python",
   "name": "python3"
  },
  "language_info": {
   "codemirror_mode": {
    "name": "ipython",
    "version": 3
   },
   "file_extension": ".py",
   "mimetype": "text/x-python",
   "name": "python",
   "nbconvert_exporter": "python",
   "pygments_lexer": "ipython3",
   "version": "3.6.5"
  }
 },
 "nbformat": 4,
 "nbformat_minor": 2
}
