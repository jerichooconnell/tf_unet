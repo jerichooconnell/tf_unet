{
 "cells": [
  {
   "cell_type": "code",
   "execution_count": 1,
   "metadata": {},
   "outputs": [
    {
     "name": "stdout",
     "output_type": "stream",
     "text": [
      "Using matplotlib backend: Qt5Agg\n",
      "Populating the interactive namespace from numpy and matplotlib\n"
     ]
    }
   ],
   "source": [
    "%pylab"
   ]
  },
  {
   "cell_type": "code",
   "execution_count": 2,
   "metadata": {},
   "outputs": [],
   "source": [
    "rands_x = 100*random_sample(1)\n",
    "rands_y = 100*random_sample(1)"
   ]
  },
  {
   "cell_type": "code",
   "execution_count": 3,
   "metadata": {},
   "outputs": [],
   "source": [
    "rand_paths_x = zeros([10])\n",
    "rand_paths_y = zeros([10])\n",
    "\n",
    "rand_paths_x[0] = rands_x\n",
    "rand_paths_y[0] = rands_y"
   ]
  },
  {
   "cell_type": "code",
   "execution_count": 4,
   "metadata": {},
   "outputs": [],
   "source": [
    "fib_0 = 0.01\n",
    "fibs = []\n",
    "fibs.append(fib_0)\n",
    "fibs.append(fib_0)\n",
    "\n",
    "coefs = [[1,-1,-1,1],[ 1,1,-1,-1]]\n",
    "coefs = array(coefs)\n",
    "\n",
    "#for pp in range(1,10):\n",
    "fib_0 = 0.01\n",
    "fibs = []\n",
    "fibs.append(fib_0)\n",
    "fibs.append(fib_0)\n",
    "for point in range(1,10):\n",
    "    fibs.append(fibs[-1]+fibs[-2])\n",
    "\n",
    "    coef_ind = (point)%4\n",
    "    rand_paths_x[point] = rand_paths_x[point] + fibs[point-1]*coefs[0,coef_ind]\n",
    "    rand_paths_x[point] = rand_paths_y[point] + fibs[point-1]*coefs[1,coef_ind]"
   ]
  },
  {
   "cell_type": "code",
   "execution_count": 5,
   "metadata": {},
   "outputs": [
    {
     "data": {
      "text/plain": [
       "[<matplotlib.lines.Line2D at 0x7f10b80b8780>]"
      ]
     },
     "execution_count": 5,
     "metadata": {},
     "output_type": "execute_result"
    }
   ],
   "source": [
    "figure\n",
    "plot(rand_paths_x,rand_paths_y)"
   ]
  },
  {
   "cell_type": "code",
   "execution_count": 6,
   "metadata": {},
   "outputs": [
    {
     "data": {
      "text/plain": [
       "1"
      ]
     },
     "execution_count": 6,
     "metadata": {},
     "output_type": "execute_result"
    }
   ],
   "source": [
    "coefs[0,3]"
   ]
  },
  {
   "cell_type": "code",
   "execution_count": 8,
   "metadata": {},
   "outputs": [
    {
     "data": {
      "text/plain": [
       "[<matplotlib.lines.Line2D at 0x7f10b1ae9438>]"
      ]
     },
     "execution_count": 8,
     "metadata": {},
     "output_type": "execute_result"
    }
   ],
   "source": [
    "coefs = [[1,-1,-1,1],[ 1,1,-1,-1]]\n",
    "coefs = array(coefs)\n",
    "\n",
    "x = []; y = []\n",
    "x.append(1.)\n",
    "y.append(1.)\n",
    "fibs = 0.1\n",
    "temp = 0\n",
    "\n",
    "for ii in range(35):\n",
    "    coef_ind = ii%4\n",
    "    x.append(coefs[0,coef_ind]*(temp) + x[-1])\n",
    "    y.append(coefs[1,coef_ind]*(temp) + y[-1])\n",
    "    fibs = fibs + temp\n",
    "    temp = fibs\n",
    "\n",
    "plt.figure()\n",
    "plt.plot(x,y)"
   ]
  },
  {
   "cell_type": "code",
   "execution_count": 32,
   "metadata": {},
   "outputs": [
    {
     "data": {
      "text/plain": [
       "[1.0,\n",
       " 1.0,\n",
       " -1.1,\n",
       " 0.9000000000000001,\n",
       " 1.3000000000000003,\n",
       " 2.1000000000000005,\n",
       " -3.7000000000000006,\n",
       " 0.5000000000000004]"
      ]
     },
     "execution_count": 32,
     "metadata": {},
     "output_type": "execute_result"
    }
   ],
   "source": [
    "x"
   ]
  },
  {
   "cell_type": "code",
   "execution_count": null,
   "metadata": {},
   "outputs": [],
   "source": []
  }
 ],
 "metadata": {
  "kernelspec": {
   "display_name": "Python 3",
   "language": "python",
   "name": "python3"
  },
  "language_info": {
   "codemirror_mode": {
    "name": "ipython",
    "version": 3
   },
   "file_extension": ".py",
   "mimetype": "text/x-python",
   "name": "python",
   "nbconvert_exporter": "python",
   "pygments_lexer": "ipython3",
   "version": "3.6.5"
  },
  "varInspector": {
   "cols": {
    "lenName": 16,
    "lenType": 16,
    "lenVar": 40
   },
   "kernels_config": {
    "python": {
     "delete_cmd_postfix": "",
     "delete_cmd_prefix": "del ",
     "library": "var_list.py",
     "varRefreshCmd": "print(var_dic_list())"
    },
    "r": {
     "delete_cmd_postfix": ") ",
     "delete_cmd_prefix": "rm(",
     "library": "var_list.r",
     "varRefreshCmd": "cat(var_dic_list()) "
    }
   },
   "types_to_exclude": [
    "module",
    "function",
    "builtin_function_or_method",
    "instance",
    "_Feature"
   ],
   "window_display": false
  }
 },
 "nbformat": 4,
 "nbformat_minor": 2
}
